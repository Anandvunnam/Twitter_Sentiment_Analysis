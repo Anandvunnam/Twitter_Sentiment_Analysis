{
 "cells": [
  {
   "attachments": {},
   "cell_type": "markdown",
   "metadata": {},
   "source": [
    "**Steps to be followed to implement the Twitter Sentiment Analysis:**\n",
    "1. Load the datasets\n",
    "2. Explore the datasets\n",
    "3. Preprocess the dataset\n",
    "4. Data Preparation\n",
    "   1. Split Data\n",
    "   2. Feature Engineering using Tf-Idf\n",
    "5. Model Building\n",
    "   1. Naive Bayes\n",
    "   2. Logistic Regression\n",
    "   3. Model Summary\n",
    "6. Final Sentiment Analysis pipeline "
   ]
  }
 ],
 "metadata": {
  "language_info": {
   "name": "python"
  },
  "orig_nbformat": 4
 },
 "nbformat": 4,
 "nbformat_minor": 2
}
